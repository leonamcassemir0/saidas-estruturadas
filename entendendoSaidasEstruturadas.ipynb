{
  "nbformat": 4,
  "nbformat_minor": 0,
  "metadata": {
    "colab": {
      "provenance": [],
      "authorship_tag": "ABX9TyP8iLn2QsoIYgRE8CNv7pCc",
      "include_colab_link": true
    },
    "kernelspec": {
      "name": "python3",
      "display_name": "Python 3"
    },
    "language_info": {
      "name": "python"
    }
  },
  "cells": [
    {
      "cell_type": "markdown",
      "metadata": {
        "id": "view-in-github",
        "colab_type": "text"
      },
      "source": [
        "<a href=\"https://colab.research.google.com/github/leonamcassemir0/saidas-estruturadas/blob/main/entendendoSaidasEstruturadas.ipynb\" target=\"_parent\"><img src=\"https://colab.research.google.com/assets/colab-badge.svg\" alt=\"Open In Colab\"/></a>"
      ]
    },
    {
      "cell_type": "markdown",
      "source": [
        "# Explicações do código\n",
        "\n",
        "Tutorial do canal Anwar Hermuche de saídas estruturadas"
      ],
      "metadata": {
        "id": "BXS15XI9anbD"
      }
    },
    {
      "cell_type": "code",
      "execution_count": null,
      "metadata": {
        "id": "38T2lxNVad08"
      },
      "outputs": [],
      "source": [
        "from langchain_openai import ChatOpenAI\n",
        "\tfrom langchain_core.prompts import \tPromptTemplate\n",
        "\tfrom langchain_core.output_parsers import \tStrOutputParser\n",
        "\tfrom google.colab import userdata"
      ]
    },
    {
      "cell_type": "markdown",
      "source": [
        "## from langchain_core.prompts import PromptTemplate:"
      ],
      "metadata": {
        "id": "3sX-7N81hDI1"
      }
    },
    {
      "cell_type": "markdown",
      "source": [
        "- PromptTemplate permite criar templates reutilizáveis para prompts.\n",
        "- Você pode definir variáveis no template que serão preenchidas depois, tornando seus prompts mais dinâmicos e flexíveis."
      ],
      "metadata": {
        "id": "06LaqVdBhC8O"
      }
    },
    {
      "cell_type": "markdown",
      "source": [
        "## from langchain_openai import ChatOpenAI:\n",
        "\n",
        "\n"
      ],
      "metadata": {
        "id": "e7_nFftob3MQ"
      }
    },
    {
      "cell_type": "markdown",
      "source": [
        "- ChatOpenAI é uma interface para interagir com os modelos de linguagem da OpenAI como GPT-3.5 e GPT-4.\n",
        "- É usada para criar e gerenciar conversas com estes modelos"
      ],
      "metadata": {
        "id": "dKfOCmQ-hsr1"
      }
    },
    {
      "cell_type": "markdown",
      "source": [
        "## from langchain_core.output_parsers import StrOutputParser:"
      ],
      "metadata": {
        "id": "RHfXQr5thktX"
      }
    },
    {
      "cell_type": "markdown",
      "source": [
        "- Este parser é usado para processar a saída do modelo.\n",
        "- Converte a resposta do modelo em uma string formatada de acordo com suas necessidades."
      ],
      "metadata": {
        "id": "7syKs25Nhltd"
      }
    },
    {
      "cell_type": "markdown",
      "source": [
        "## Editando a saída do prompt"
      ],
      "metadata": {
        "id": "gOGbAXeMiBiU"
      }
    },
    {
      "cell_type": "code",
      "source": [
        "\tfrom pydantic import BaseModel, Field\n",
        "\tfrom typing import List\n",
        "\n",
        "\tclass InformacoesPessoais(BaseModel):\n",
        "  \t\tanoNascimento: int = Field(description = \"Ano de nascimento da pessoa\")\n",
        "  \t\tnome: str = Field(description = \"Nome completo oficial da pessoa\")\n",
        "  \t\tfalecido: bool = Field(description = \"Se a pessoa faleceu ou não\")\n",
        " \t\tprincipaisTrabalhos: List[str] = Field(description = \"Principais trabalhos da pessoa\")\n"
      ],
      "metadata": {
        "id": "_DKhh0I9cdGd"
      },
      "execution_count": null,
      "outputs": []
    },
    {
      "cell_type": "markdown",
      "source": [
        "### BaseModel:\n",
        "É a classe base do Pydantic, usada para criar modelos de dados. Permite validação, manipulação e documentação dos campos de entrada.\n",
        "\n",
        "---\n",
        "\n",
        "### Field:\n",
        "Uma função do Pydantic usada para configurar detalhes dos campos, como descrições, valores padrão, exemplos e validações."
      ],
      "metadata": {
        "id": "zFxtyfaQfttT"
      }
    },
    {
      "cell_type": "markdown",
      "source": [
        "### Atributos da classe\n",
        "\n"
      ],
      "metadata": {
        "id": "LEvmPuh4gOyh"
      }
    },
    {
      "cell_type": "code",
      "source": [
        "anoNascimento: int = Field(..., description = \"Ano de nascimento da pessoa\", example = 1990)"
      ],
      "metadata": {
        "id": "Z9giEC0ugJ0a"
      },
      "execution_count": null,
      "outputs": []
    },
    {
      "cell_type": "markdown",
      "source": [
        "***Tipo:*** int (espera um número inteiro).\n",
        "  - Usado para armazenar o ano de nascimento da pessoa.\n",
        "\n",
        "***Field(...):***\n",
        "  - O argumento ... indica que o campo é obrigatório.\n",
        "\n",
        "***description:***\n",
        "  - Adiciona uma descrição para o campo, útil para documentação (ex.: APIs).\n",
        "\n",
        "***example:***\n",
        "  - Define um exemplo para o campo, usado em ferramentas como FastAPI para ilustrar o uso do modelo."
      ],
      "metadata": {
        "id": "nZHoVCKPgcsM"
      }
    }
  ]
}